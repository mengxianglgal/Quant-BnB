{
 "cells": [
  {
   "cell_type": "code",
   "execution_count": 1,
   "metadata": {},
   "outputs": [
    {
     "data": {
      "text/plain": [
       "myfindinterval (generic function with 1 method)"
      ]
     },
     "metadata": {},
     "output_type": "display_data"
    }
   ],
   "source": [
    "using LinearAlgebra\n",
    "using Printf\n",
    "include(\"QuantBnB-2D.jl\")\n",
    "include(\"QuantBnB-3D.jl\")\n",
    "include(\"gen_data.jl\")\n",
    "include(\"lowerbound_middle.jl\")\n",
    "include(\"Algorithms.jl\")"
   ]
  },
  {
   "cell_type": "code",
   "execution_count": 2,
   "metadata": {},
   "outputs": [
    {
     "data": {
      "text/plain": [
       "16-element Vector{String}:\n",
       " \"avila\"\n",
       " \"bank\"\n",
       " \"bean\"\n",
       " \"bidding\"\n",
       " \"eeg\"\n",
       " \"fault\"\n",
       " \"HTRU\"\n",
       " \"magic\"\n",
       " \"occupancy\"\n",
       " \"page\"\n",
       " \"raisin\"\n",
       " \"rice\"\n",
       " \"room\"\n",
       " \"segment\"\n",
       " \"skin\"\n",
       " \"wilt\""
      ]
     },
     "metadata": {},
     "output_type": "display_data"
    }
   ],
   "source": [
    "regress_data = [\"carbon\",\"casp\",\"concrete\",\"energy\",\"fish\",\"gas\",\"grid\",\"news\",\"qsar\",\"query1\",\"query2\"]\n",
    "\n",
    "class_data = [\"avila\", \"bank\", \"bean\", \"bidding\", \"eeg\", \"fault\", \"HTRU\",\n",
    "\"magic\", \"occupancy\", \"page\",\"raisin\", \"rice\", \"room\", \"segment\",\"skin\",\"wilt\"]\n"
   ]
  },
  {
   "cell_type": "code",
   "execution_count": 3,
   "metadata": {},
   "outputs": [
    {
     "name": "stdout",
     "output_type": "stream",
     "text": [
      "Test Quant-BnB on depth-2 trees for classification problems\n"
     ]
    },
    {
     "name": "stdout",
     "output_type": "stream",
     "text": [
      "Dataset: avila,  CART train/test acc: 0.507 / 0.505,  Quant-BnB train/test acc: 0.542 / 0.537"
     ]
    },
    {
     "name": "stdout",
     "output_type": "stream",
     "text": [
      "Dataset: bank,  CART train/test acc: 0.909 / 0.895,  Quant-BnB train/test acc: 0.925 / 0.924Dataset: bean,  CART train/test acc: 0.657 / 0.650,  Quant-BnB train/test acc: 0.663 / 0.654"
     ]
    },
    {
     "name": "stdout",
     "output_type": "stream",
     "text": [
      "Dataset: bidding,  CART train/test acc: 0.981 / 0.986,  Quant-BnB train/test acc: 0.981 / 0.985"
     ]
    },
    {
     "name": "stdout",
     "output_type": "stream",
     "text": [
      "Dataset: eeg,  CART train/test acc: 0.625 / 0.631,  Quant-BnB train/test acc: 0.665 / 0.683"
     ]
    },
    {
     "name": "stdout",
     "output_type": "stream",
     "text": [
      "Dataset: fault,  CART train/test acc: 0.540 / 0.519,  Quant-BnB train/test acc: 0.583 / 0.599"
     ]
    },
    {
     "name": "stdout",
     "output_type": "stream",
     "text": [
      "Dataset: HTRU,  CART train/test acc: 0.977 / 0.979,  Quant-BnB train/test acc: 0.979 / 0.979"
     ]
    },
    {
     "name": "stdout",
     "output_type": "stream",
     "text": [
      "Dataset: magic,  CART train/test acc: 0.794 / 0.792,  Quant-BnB train/test acc: 0.805 / 0.796"
     ]
    },
    {
     "name": "stdout",
     "output_type": "stream",
     "text": [
      "Dataset: occupancy,  CART train/test acc: 0.989 / 0.977,  Quant-BnB train/test acc: 0.989 / 0.961Dataset: page,  CART train/test acc: 0.954 / 0.951,  Quant-BnB train/test acc: 0.954 / 0.952"
     ]
    },
    {
     "name": "stdout",
     "output_type": "stream",
     "text": [
      "Dataset: raisin,  CART train/test acc: 0.868 / 0.889,  Quant-BnB train/test acc: 0.874 / 0.883Dataset: rice,  CART train/test acc: 0.930 / 0.921,  Quant-BnB train/test acc: 0.933 / 0.920"
     ]
    },
    {
     "name": "stdout",
     "output_type": "stream",
     "text": [
      "Dataset: room,  CART train/test acc: 0.932 / 0.935,  Quant-BnB train/test acc: 0.946 / 0.941"
     ]
    },
    {
     "name": "stdout",
     "output_type": "stream",
     "text": [
      "Dataset: segment,  CART train/test acc: 0.430 / 0.418,  Quant-BnB train/test acc: 0.575 / 0.554"
     ]
    },
    {
     "name": "stdout",
     "output_type": "stream",
     "text": [
      "Dataset: skin,  CART train/test acc: 0.907 / 0.908,  Quant-BnB train/test acc: 0.927 / 0.925"
     ]
    },
    {
     "name": "stdout",
     "output_type": "stream",
     "text": [
      "Dataset: wilt,  CART train/test acc: 0.991 / 0.752,  Quant-BnB train/test acc: 0.991 / 0.742"
     ]
    }
   ],
   "source": [
    "# test depth-2 trees on classification problems\n",
    "println(\"Test Quant-BnB on depth-2 trees for classification problems\")\n",
    "for i=1:length(class_data)\n",
    "    X_train, X_test, Y_train, Y_test = generate_realdata(string(\"./dataset/class/\",class_data[i],\".json\"))\n",
    "    n_train, m = size(Y_train)\n",
    "    n_test, _ = size(Y_test)\n",
    "    gre_train, gre_tree = greedy_tree(X_train, Y_train, 2, \"C\")\n",
    "    opt_train, opt_tree = QuantBnB_2D(X_train, Y_train, 3, gre_train*(1+1e-6), 2, 0.2, nothing, \"C\", false)\n",
    "\n",
    "    gre_test = sum((Y_test - tree_eval(gre_tree, X_test, 2, m)).>0)\n",
    "    opt_test = sum((Y_test - tree_eval(opt_tree, X_test, 2, m)).>0)\n",
    "\n",
    "    @printf(\"Dataset: %s,  CART train/test acc: %.3f / %.3f,  Quant-BnB train/test acc: %.3f / %.3f\", class_data[i], \n",
    "            1-gre_train/n_train,1-gre_test/n_test, 1-opt_train/n_train,1-opt_test/n_test)\n",
    "\n",
    "end"
   ]
  },
  {
   "cell_type": "code",
   "execution_count": 4,
   "metadata": {},
   "outputs": [
    {
     "name": "stdout",
     "output_type": "stream",
     "text": [
      "Test Quant-BnB on depth-2 trees for regression problems\n"
     ]
    },
    {
     "name": "stdout",
     "output_type": "stream",
     "text": [
      "Dataset: carbon,  CART train/test err: 0.116 / 0.119,  Quant-BnB train/test err: 0.114 / 0.116"
     ]
    },
    {
     "name": "stdout",
     "output_type": "stream",
     "text": [
      "Dataset: casp,  CART train/test err: 0.071 / 0.071,  Quant-BnB train/test err: 0.071 / 0.070Dataset: concrete,  CART train/test err: 0.022 / 0.025,  Quant-BnB train/test err: 0.021 / 0.025"
     ]
    },
    {
     "name": "stdout",
     "output_type": "stream",
     "text": [
      "Dataset: energy,  CART train/test err: 0.008 / 0.008,  Quant-BnB train/test err: 0.008 / 0.007Dataset: fish,  CART train/test err: 0.013 / 0.013,  Quant-BnB train/test err: 0.012 / 0.014"
     ]
    },
    {
     "name": "stdout",
     "output_type": "stream",
     "text": [
      "Dataset: gas,  CART train/test err: 0.003 / 0.003,  Quant-BnB train/test err: 0.003 / 0.003"
     ]
    },
    {
     "name": "stdout",
     "output_type": "stream",
     "text": [
      "Dataset: grid,  CART train/test err: 0.030 / 0.032,  Quant-BnB train/test err: 0.029 / 0.029"
     ]
    },
    {
     "name": "stdout",
     "output_type": "stream",
     "text": [
      "Dataset: news,  CART train/test err: 0.000 / 0.000,  Quant-BnB train/test err: 0.000 / 0.000Dataset: qsar,  CART train/test err: 0.019 / 0.018,  Quant-BnB train/test err: 0.018 / 0.017"
     ]
    },
    {
     "name": "stdout",
     "output_type": "stream",
     "text": [
      "Dataset: query1,  CART train/test err: 0.008 / 0.009,  Quant-BnB train/test err: 0.006 / 0.006"
     ]
    },
    {
     "name": "stdout",
     "output_type": "stream",
     "text": [
      "Dataset: query2,  CART train/test err: 0.033 / 0.033,  Quant-BnB train/test err: 0.030 / 0.030"
     ]
    }
   ],
   "source": [
    "# test depth-2 trees on regression problems\n",
    "println(\"Test Quant-BnB on depth-2 trees for regression problems\")\n",
    "for i=1:length(regress_data)\n",
    "    X_train, X_test, Y_train, Y_test = generate_realdata(string(\"./dataset/regress/\",regress_data[i],\".json\"))\n",
    "    n_train, m = size(Y_train)\n",
    "    n_test, m = size(Y_test)\n",
    "    gre_train, gre_tree = greedy_tree(X_train, Y_train, 2, \"R\")\n",
    "    opt_train, opt_tree = QuantBnB_2D(X_train, Y_train, 3, gre_train*(1+1e-6), 2, 0.2, nothing, \"R\", false)\n",
    "\n",
    "    gre_test = sum((Y_test - tree_eval(gre_tree, X_test, 2, m)).^2)\n",
    "    opt_test = sum((Y_test - tree_eval(opt_tree, X_test, 2, m)).^2)\n",
    "\n",
    "    @printf(\"Dataset: %s,  CART train/test err: %.3f / %.3f,  Quant-BnB train/test err: %.3f / %.3f\", regress_data[i], \n",
    "            gre_train/n_train,gre_test/n_test, opt_train/n_train,opt_test/n_test)\n",
    "\n",
    "end"
   ]
  },
  {
   "cell_type": "code",
   "execution_count": null,
   "metadata": {},
   "outputs": [],
   "source": []
  },
  {
   "cell_type": "code",
   "execution_count": 5,
   "metadata": {},
   "outputs": [
    {
     "name": "stdout",
     "output_type": "stream",
     "text": [
      "Total number of trees = 3781512036\n",
      "Total number of intervals = 2916\n",
      "--------------------------------------"
     ]
    },
    {
     "name": "stdout",
     "output_type": "stream",
     "text": [
      "\n",
      "Loop 1\n",
      "Number of remaining trees = 2038097934\n",
      "Total number of intervals = 14984\n",
      "Current objective = 64.0\n",
      "time = 4.023999929428101\n",
      "--------------------------------------\n"
     ]
    },
    {
     "name": "stdout",
     "output_type": "stream",
     "text": [
      "Loop 2\n",
      "Number of remaining trees = 175114545\n",
      "Total number of intervals = 15858\n",
      "Current objective = 37.0\n",
      "time = 7.443000078201294\n",
      "--------------------------------------"
     ]
    },
    {
     "name": "stdout",
     "output_type": "stream",
     "text": [
      "\n",
      "Loop 3\n",
      "Number of remaining trees = 7571\n",
      "Total number of intervals = 171\n",
      "Current objective = 37.0\n",
      "time = 8.652000188827515\n",
      "--------------------------------------\n"
     ]
    },
    {
     "name": "stdout",
     "output_type": "stream",
     "text": [
      "Loop 4\n",
      "Number of remaining trees = 135\n",
      "Total number of intervals = 49\n",
      "Current objective = 37.0\n",
      "time = 0.125\n",
      "--------------------------------------"
     ]
    },
    {
     "name": "stdout",
     "output_type": "stream",
     "text": [
      "\n",
      "Obj = 37.0\n",
      "Tree is "
     ]
    },
    {
     "name": "stdout",
     "output_type": "stream",
     "text": [
      "Any[9, 0.5555444444444444, Any[9, 0.11118888888888888, Any[3, 0.25005, "
     ]
    },
    {
     "name": "stdout",
     "output_type": "stream",
     "text": [
      "[1.0 0.0], [0.0 1.0]], Any[3, 0.74995, [1.0 0.0], [0.0 1.0]]], Any[3, 0.25005, Any[1, 0.0016102718851999998, [1.0 0.0], [1.0 0.0]], Any[2, 0.08903313378412894, [1.0 0.0], [0.0 1.0]]]]\n",
      "total time = 20.55400037765503\n",
      "Dataset: occupancy,  CART train/test acc: 0.981 / 0.986,  Quant-BnB train/test acc: 0.993 / 0.990"
     ]
    }
   ],
   "source": [
    "# test depth-3 trees on a classification problem\n",
    "X_train, X_test, Y_train, Y_test = generate_realdata(string(\"./dataset/class/\",\"bidding\",\".json\"))\n",
    "n_train, m = size(Y_train)\n",
    "n_test, _ = size(Y_test)\n",
    "gre_train, gre_tree = greedy_tree(X_train, Y_train, 3, \"C\")\n",
    "opt_train, opt_tree = QuantBnB_3D(X_train, Y_train, 3, 3, gre_train*(1+1e-6), 0, 0, nothing, \"C\", 300)\n",
    "gre_test = sum((Y_test - tree_eval(gre_tree, X_test, 3, m)).>0)\n",
    "opt_test = sum((Y_test - tree_eval(opt_tree, X_test, 3, m)).>0)\n",
    "@printf(\"Dataset: %s,  CART train/test acc: %.3f / %.3f,  Quant-BnB train/test acc: %.3f / %.3f\", \"occupancy\", \n",
    "            1-gre_train/n_train,1-gre_test/n_test, 1-opt_train/n_train,1-opt_test/n_test)"
   ]
  },
  {
   "cell_type": "code",
   "execution_count": null,
   "metadata": {},
   "outputs": [],
   "source": []
  },
  {
   "cell_type": "code",
   "execution_count": null,
   "metadata": {},
   "outputs": [],
   "source": []
  }
 ],
 "metadata": {
  "kernelspec": {
   "display_name": "Julia 1.6.2",
   "language": "julia",
   "name": "julia-1.6"
  },
  "language_info": {
   "file_extension": ".jl",
   "mimetype": "application/julia",
   "name": "julia",
   "version": "1.6.2"
  },
  "orig_nbformat": 4
 },
 "nbformat": 4,
 "nbformat_minor": 2
}
